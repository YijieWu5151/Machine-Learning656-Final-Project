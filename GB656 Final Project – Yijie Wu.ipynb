{
 "cells": [
  {
   "cell_type": "markdown",
   "metadata": {},
   "source": [
    "## 1. Data preprocessing"
   ]
  },
  {
   "cell_type": "code",
   "execution_count": 1,
   "metadata": {},
   "outputs": [],
   "source": [
    "import os\n",
    "import pandas as pd\n",
    "import random\n",
    "from sklearn import preprocessing\n",
    "import matplotlib.pyplot as plt\n",
    "import category_encoders\n",
    "from sklearn.decomposition import PCA"
   ]
  },
  {
   "cell_type": "markdown",
   "metadata": {},
   "source": [
    "### 1.1 Import and merge the data"
   ]
  },
  {
   "cell_type": "code",
   "execution_count": 2,
   "metadata": {},
   "outputs": [],
   "source": [
    "#os.chdir(\"/kaggle/input/ieee-fraud-detection\")\n",
    "#os.listdir()"
   ]
  },
  {
   "cell_type": "code",
   "execution_count": 3,
   "metadata": {},
   "outputs": [],
   "source": [
    "# import the data\n",
    "train_identity = pd.read_csv('train_identity.csv')\n",
    "train_transaction = pd.read_csv('train_transaction.csv')\n",
    "test_identity = pd.read_csv('test_identity.csv')\n",
    "test_transaction = pd.read_csv('test_transaction.csv')\n",
    "\n",
    "# merge identity and transaction to one dataframe\n",
    "train = pd.merge(train_transaction, train_identity, on='TransactionID', how='left')\n",
    "test = pd.merge(test_transaction, test_identity, on='TransactionID', how='left')\n",
    "# train_raw, test_raw = train.copy(), test.copy()\n",
    "\n",
    "del train_identity, train_transaction, test_identity, test_transaction"
   ]
  },
  {
   "cell_type": "markdown",
   "metadata": {},
   "source": [
    "The computation on the whole data set is too expensive, so I randomly select a subset of size 5000 for demo. Note that you should not run the code in following cell if you want to train a precise model."
   ]
  },
  {
   "cell_type": "code",
   "execution_count": 4,
   "metadata": {},
   "outputs": [
    {
     "data": {
      "text/html": [
       "<div>\n",
       "<style scoped>\n",
       "    .dataframe tbody tr th:only-of-type {\n",
       "        vertical-align: middle;\n",
       "    }\n",
       "\n",
       "    .dataframe tbody tr th {\n",
       "        vertical-align: top;\n",
       "    }\n",
       "\n",
       "    .dataframe thead th {\n",
       "        text-align: right;\n",
       "    }\n",
       "</style>\n",
       "<table border=\"1\" class=\"dataframe\">\n",
       "  <thead>\n",
       "    <tr style=\"text-align: right;\">\n",
       "      <th></th>\n",
       "      <th>TransactionID</th>\n",
       "      <th>isFraud</th>\n",
       "      <th>TransactionDT</th>\n",
       "      <th>TransactionAmt</th>\n",
       "      <th>ProductCD</th>\n",
       "      <th>card1</th>\n",
       "      <th>card2</th>\n",
       "      <th>card3</th>\n",
       "      <th>card4</th>\n",
       "      <th>card5</th>\n",
       "      <th>...</th>\n",
       "      <th>id_31</th>\n",
       "      <th>id_32</th>\n",
       "      <th>id_33</th>\n",
       "      <th>id_34</th>\n",
       "      <th>id_35</th>\n",
       "      <th>id_36</th>\n",
       "      <th>id_37</th>\n",
       "      <th>id_38</th>\n",
       "      <th>DeviceType</th>\n",
       "      <th>DeviceInfo</th>\n",
       "    </tr>\n",
       "  </thead>\n",
       "  <tbody>\n",
       "    <tr>\n",
       "      <th>234486</th>\n",
       "      <td>3221486</td>\n",
       "      <td>0</td>\n",
       "      <td>5539635</td>\n",
       "      <td>261.95</td>\n",
       "      <td>W</td>\n",
       "      <td>7585</td>\n",
       "      <td>553.0</td>\n",
       "      <td>150.0</td>\n",
       "      <td>visa</td>\n",
       "      <td>226.0</td>\n",
       "      <td>...</td>\n",
       "      <td>NaN</td>\n",
       "      <td>NaN</td>\n",
       "      <td>NaN</td>\n",
       "      <td>NaN</td>\n",
       "      <td>NaN</td>\n",
       "      <td>NaN</td>\n",
       "      <td>NaN</td>\n",
       "      <td>NaN</td>\n",
       "      <td>NaN</td>\n",
       "      <td>NaN</td>\n",
       "    </tr>\n",
       "    <tr>\n",
       "      <th>510134</th>\n",
       "      <td>3497134</td>\n",
       "      <td>0</td>\n",
       "      <td>13364495</td>\n",
       "      <td>141.00</td>\n",
       "      <td>W</td>\n",
       "      <td>16132</td>\n",
       "      <td>111.0</td>\n",
       "      <td>150.0</td>\n",
       "      <td>visa</td>\n",
       "      <td>226.0</td>\n",
       "      <td>...</td>\n",
       "      <td>NaN</td>\n",
       "      <td>NaN</td>\n",
       "      <td>NaN</td>\n",
       "      <td>NaN</td>\n",
       "      <td>NaN</td>\n",
       "      <td>NaN</td>\n",
       "      <td>NaN</td>\n",
       "      <td>NaN</td>\n",
       "      <td>NaN</td>\n",
       "      <td>NaN</td>\n",
       "    </tr>\n",
       "    <tr>\n",
       "      <th>561462</th>\n",
       "      <td>3548462</td>\n",
       "      <td>0</td>\n",
       "      <td>14863128</td>\n",
       "      <td>300.00</td>\n",
       "      <td>R</td>\n",
       "      <td>14182</td>\n",
       "      <td>562.0</td>\n",
       "      <td>150.0</td>\n",
       "      <td>mastercard</td>\n",
       "      <td>102.0</td>\n",
       "      <td>...</td>\n",
       "      <td>ie 11.0 for desktop</td>\n",
       "      <td>24.0</td>\n",
       "      <td>1680x1050</td>\n",
       "      <td>match_status:2</td>\n",
       "      <td>T</td>\n",
       "      <td>F</td>\n",
       "      <td>T</td>\n",
       "      <td>T</td>\n",
       "      <td>desktop</td>\n",
       "      <td>Trident/7.0</td>\n",
       "    </tr>\n",
       "    <tr>\n",
       "      <th>66966</th>\n",
       "      <td>3053966</td>\n",
       "      <td>0</td>\n",
       "      <td>1527287</td>\n",
       "      <td>226.00</td>\n",
       "      <td>W</td>\n",
       "      <td>10023</td>\n",
       "      <td>111.0</td>\n",
       "      <td>150.0</td>\n",
       "      <td>visa</td>\n",
       "      <td>226.0</td>\n",
       "      <td>...</td>\n",
       "      <td>NaN</td>\n",
       "      <td>NaN</td>\n",
       "      <td>NaN</td>\n",
       "      <td>NaN</td>\n",
       "      <td>NaN</td>\n",
       "      <td>NaN</td>\n",
       "      <td>NaN</td>\n",
       "      <td>NaN</td>\n",
       "      <td>NaN</td>\n",
       "      <td>NaN</td>\n",
       "    </tr>\n",
       "    <tr>\n",
       "      <th>359681</th>\n",
       "      <td>3346681</td>\n",
       "      <td>0</td>\n",
       "      <td>8904242</td>\n",
       "      <td>146.00</td>\n",
       "      <td>W</td>\n",
       "      <td>10989</td>\n",
       "      <td>360.0</td>\n",
       "      <td>150.0</td>\n",
       "      <td>visa</td>\n",
       "      <td>166.0</td>\n",
       "      <td>...</td>\n",
       "      <td>NaN</td>\n",
       "      <td>NaN</td>\n",
       "      <td>NaN</td>\n",
       "      <td>NaN</td>\n",
       "      <td>NaN</td>\n",
       "      <td>NaN</td>\n",
       "      <td>NaN</td>\n",
       "      <td>NaN</td>\n",
       "      <td>NaN</td>\n",
       "      <td>NaN</td>\n",
       "    </tr>\n",
       "  </tbody>\n",
       "</table>\n",
       "<p>5 rows × 434 columns</p>\n",
       "</div>"
      ],
      "text/plain": [
       "        TransactionID  isFraud  TransactionDT  TransactionAmt ProductCD  \\\n",
       "234486        3221486        0        5539635          261.95         W   \n",
       "510134        3497134        0       13364495          141.00         W   \n",
       "561462        3548462        0       14863128          300.00         R   \n",
       "66966         3053966        0        1527287          226.00         W   \n",
       "359681        3346681        0        8904242          146.00         W   \n",
       "\n",
       "        card1  card2  card3       card4  card5  ...                id_31  \\\n",
       "234486   7585  553.0  150.0        visa  226.0  ...                  NaN   \n",
       "510134  16132  111.0  150.0        visa  226.0  ...                  NaN   \n",
       "561462  14182  562.0  150.0  mastercard  102.0  ...  ie 11.0 for desktop   \n",
       "66966   10023  111.0  150.0        visa  226.0  ...                  NaN   \n",
       "359681  10989  360.0  150.0        visa  166.0  ...                  NaN   \n",
       "\n",
       "        id_32      id_33           id_34  id_35 id_36 id_37  id_38  \\\n",
       "234486    NaN        NaN             NaN    NaN   NaN   NaN    NaN   \n",
       "510134    NaN        NaN             NaN    NaN   NaN   NaN    NaN   \n",
       "561462   24.0  1680x1050  match_status:2      T     F     T      T   \n",
       "66966     NaN        NaN             NaN    NaN   NaN   NaN    NaN   \n",
       "359681    NaN        NaN             NaN    NaN   NaN   NaN    NaN   \n",
       "\n",
       "        DeviceType   DeviceInfo  \n",
       "234486         NaN          NaN  \n",
       "510134         NaN          NaN  \n",
       "561462     desktop  Trident/7.0  \n",
       "66966          NaN          NaN  \n",
       "359681         NaN          NaN  \n",
       "\n",
       "[5 rows x 434 columns]"
      ]
     },
     "execution_count": 4,
     "metadata": {},
     "output_type": "execute_result"
    }
   ],
   "source": [
    "sampleIdx = random.sample([i for i in range(train.shape[0])], k=5000)\n",
    "train = train.iloc[sampleIdx, :]\n",
    "train.head()"
   ]
  },
  {
   "cell_type": "code",
   "execution_count": 5,
   "metadata": {},
   "outputs": [
    {
     "name": "stdout",
     "output_type": "stream",
     "text": [
      "Training dataset has 5000 observations and 434 features.\n",
      "Test dataset has 506691 observations and 433 features.\n"
     ]
    }
   ],
   "source": [
    "print(f'Training dataset has {train.shape[0]} observations and {train.shape[1]} features.')\n",
    "print(f'Test dataset has {test.shape[0]} observations and {test.shape[1]} features.')"
   ]
  },
  {
   "cell_type": "code",
   "execution_count": 6,
   "metadata": {},
   "outputs": [],
   "source": [
    "Ytr = train[\"isFraud\"]\n",
    "X = train.drop([\"isFraud\",\"TransactionID\", \"TransactionDT\"], axis=1).append(test.drop([\"TransactionID\", \"TransactionDT\"], axis=1))\n",
    "# X_raw, Ytr_raw = X.copy(), Ytr.copy()"
   ]
  },
  {
   "cell_type": "markdown",
   "metadata": {},
   "source": [
    "### 1.2 Handle missing values\n",
    "\n",
    "At first, I dropt features with high proporation (70%) of missing values. Then, I filled missing values in categorical variables with their mode, and filled missing values in numerical variables with their mean."
   ]
  },
  {
   "cell_type": "code",
   "execution_count": 7,
   "metadata": {},
   "outputs": [
    {
     "data": {
      "image/png": "[encoded data removed]",
      "text/plain": [
       "<Figure size 432x288 with 1 Axes>"
      ]
     },
     "metadata": {
      "needs_background": "light"
     },
     "output_type": "display_data"
    }
   ],
   "source": [
    "# proporation of missing values\n",
    "missPropor = [X[col].isnull().sum() / X.shape[0] for col in X.columns]\n",
    "plt.hist(missPropor, bins=30)\n",
    "plt.ylabel(\"Frequency\")\n",
    "plt.xlabel(\"Proportion of missing values\")\n",
    "plt.show()"
   ]
  },
  {
   "cell_type": "code",
   "execution_count": 8,
   "metadata": {},
   "outputs": [
    {
     "name": "stdout",
     "output_type": "stream",
     "text": [
      "After deleting features with high proporation of missing values, there are 223 features.\n"
     ]
    }
   ],
   "source": [
    "# delete features with high proporation of missing values\n",
    "many_null_cols = [X.columns[i] for i in range(X.shape[1]) if missPropor[i] > 0.7]\n",
    "X = X.drop(many_null_cols, axis=1)\n",
    "print(f\"After deleting features with high proporation of missing values, there are {X.shape[1]} features.\")"
   ]
  },
  {
   "cell_type": "code",
   "execution_count": 9,
   "metadata": {},
   "outputs": [],
   "source": [
    "# fill missing values in categorical variables with their mode.\n",
    "# fill missing values in numerical variables with their mean.\n",
    "for i in range(X.shape[1]):\n",
    "    if missPropor[i] > 0:\n",
    "        if X.iloc[:, i].dtype == \"object\":\n",
    "            X.iloc[:, i] = X.iloc[:, i].fillna(X.iloc[:, i].mode()[0])\n",
    "        elif X.iloc[:, i].dtype in ['int64', 'float64']:\n",
    "            X.iloc[:, i] = X.iloc[:, i].fillna(X.iloc[:, i].mean())"
   ]
  },
  {
   "cell_type": "markdown",
   "metadata": {},
   "source": [
    "### 1.3 Encode categorical variables\n",
    "\n",
    "In the following part, I tried two different ways: numeric encoding and binary encoding. [Here](https://medium.com/data-design/visiting-categorical-features-and-encoding-in-decision-trees-53400fa65931) is the reason why I did that.\n",
    "\n",
    "Numeric encoding (label encoding) simply assigns a value to each category. Binary encoding hashes the cardinalities into binary values."
   ]
  },
  {
   "cell_type": "code",
   "execution_count": 10,
   "metadata": {},
   "outputs": [],
   "source": [
    "# numeric encoding (label encoding)\n",
    "X_le = X.copy()\n",
    "for f in X.columns:\n",
    "    if X_le[f].dtype == 'object': \n",
    "        le = preprocessing.LabelEncoder()\n",
    "        le.fit(list(X_le[f].values))\n",
    "        X_le[f] = le.transform(list(X_le[f].values))"
   ]
  },
  {
   "cell_type": "code",
   "execution_count": 11,
   "metadata": {},
   "outputs": [],
   "source": [
    "# binary encoding\n",
    "X_be = X.copy()\n",
    "for f in X.columns:\n",
    "    if X_be[f].dtype == 'object': \n",
    "        if X_be[f].nunique() <= 2:\n",
    "            le = preprocessing.LabelEncoder()\n",
    "            le.fit(list(X_be[f].values))\n",
    "            X_be[f] = le.transform(list(X_be[f].values))\n",
    "        else:\n",
    "            be = category_encoders.BinaryEncoder(cols=f)\n",
    "            X_be = be.fit_transform(X_be)"
   ]
  },
  {
   "cell_type": "markdown",
   "metadata": {},
   "source": [
    "### 1.4 PCA to reduce dimension\n",
    "\n",
    "Although PCA can reduce dimension and computation time, the result showed that the prediction performance with PCA is worse. So I will not use the data after PCA to fit the model and make predictions in the modeling part."
   ]
  },
  {
   "cell_type": "code",
   "execution_count": 12,
   "metadata": {},
   "outputs": [],
   "source": [
    "X_le_pca = X_le.copy()"
   ]
  },
  {
   "cell_type": "code",
   "execution_count": 13,
   "metadata": {},
   "outputs": [],
   "source": [
    "# standardize the data\n",
    "scaler = preprocessing.StandardScaler()\n",
    "scaler.fit(X_le_pca)\n",
    "X_le_pca = scaler.transform(X_le_pca)"
   ]
  },
  {
   "cell_type": "code",
   "execution_count": 14,
   "metadata": {},
   "outputs": [],
   "source": [
    "# apply PCA\n",
    "# choose the minimum number of principal components \n",
    "# such that 99% of the variance is retained.\n",
    "pca = PCA(0.99)\n",
    "pca.fit(X_le_pca)\n",
    "X_le_pca = pca.transform(X_le_pca)\n",
    "X_le_pca = pd.DataFrame(X_le_pca)"
   ]
  },
  {
   "cell_type": "code",
   "execution_count": 15,
   "metadata": {},
   "outputs": [
    {
     "name": "stdout",
     "output_type": "stream",
     "text": [
      "Number of features after PCA is 139.\n"
     ]
    }
   ],
   "source": [
    "print(f\"Number of features after PCA is {X_le_pca.shape[1]}.\")"
   ]
  },
  {
   "cell_type": "markdown",
   "metadata": {},
   "source": [
    "### 1.5 Save processed data"
   ]
  },
  {
   "cell_type": "code",
   "execution_count": 16,
   "metadata": {},
   "outputs": [],
   "source": [
    "Xtr_le = X_le.iloc[:train.shape[0], :]\n",
    "Xte_le = X_le.iloc[train.shape[0]:, :]\n",
    "Xtr_be = X_be.iloc[:train.shape[0], :]\n",
    "Xte_be = X_be.iloc[train.shape[0]:, :]\n",
    "Xtr_le_pca = X_le_pca.iloc[:train.shape[0], :]\n",
    "Xte_le_pca = X_le_pca.iloc[train.shape[0]:, :]"
   ]
  },
  {
   "cell_type": "code",
   "execution_count": 40,
   "metadata": {},
   "outputs": [
    {
     "data": {
      "text/html": [
       "<div>\n",
       "<style scoped>\n",
       "    .dataframe tbody tr th:only-of-type {\n",
       "        vertical-align: middle;\n",
       "    }\n",
       "\n",
       "    .dataframe tbody tr th {\n",
       "        vertical-align: top;\n",
       "    }\n",
       "\n",
       "    .dataframe thead th {\n",
       "        text-align: right;\n",
       "    }\n",
       "</style>\n",
       "<table border=\"1\" class=\"dataframe\">\n",
       "  <thead>\n",
       "    <tr style=\"text-align: right;\">\n",
       "      <th></th>\n",
       "      <th>TransactionAmt</th>\n",
       "      <th>ProductCD_0</th>\n",
       "      <th>ProductCD_1</th>\n",
       "      <th>ProductCD_2</th>\n",
       "      <th>card1</th>\n",
       "      <th>card2</th>\n",
       "      <th>card3</th>\n",
       "      <th>card4_0</th>\n",
       "      <th>card4_1</th>\n",
       "      <th>card4_2</th>\n",
       "      <th>...</th>\n",
       "      <th>V312</th>\n",
       "      <th>V313</th>\n",
       "      <th>V314</th>\n",
       "      <th>V315</th>\n",
       "      <th>V316</th>\n",
       "      <th>V317</th>\n",
       "      <th>V318</th>\n",
       "      <th>V319</th>\n",
       "      <th>V320</th>\n",
       "      <th>V321</th>\n",
       "    </tr>\n",
       "  </thead>\n",
       "  <tbody>\n",
       "    <tr>\n",
       "      <th>234486</th>\n",
       "      <td>261.95</td>\n",
       "      <td>0</td>\n",
       "      <td>0</td>\n",
       "      <td>1</td>\n",
       "      <td>7585</td>\n",
       "      <td>553.0</td>\n",
       "      <td>150.0</td>\n",
       "      <td>0</td>\n",
       "      <td>0</td>\n",
       "      <td>1</td>\n",
       "      <td>...</td>\n",
       "      <td>0.0</td>\n",
       "      <td>0.0</td>\n",
       "      <td>0.0</td>\n",
       "      <td>0.0</td>\n",
       "      <td>0.0</td>\n",
       "      <td>0.0</td>\n",
       "      <td>0.0</td>\n",
       "      <td>0.0</td>\n",
       "      <td>0.0</td>\n",
       "      <td>0.0</td>\n",
       "    </tr>\n",
       "    <tr>\n",
       "      <th>510134</th>\n",
       "      <td>141.00</td>\n",
       "      <td>0</td>\n",
       "      <td>0</td>\n",
       "      <td>1</td>\n",
       "      <td>16132</td>\n",
       "      <td>111.0</td>\n",
       "      <td>150.0</td>\n",
       "      <td>0</td>\n",
       "      <td>0</td>\n",
       "      <td>1</td>\n",
       "      <td>...</td>\n",
       "      <td>0.0</td>\n",
       "      <td>0.0</td>\n",
       "      <td>206.0</td>\n",
       "      <td>0.0</td>\n",
       "      <td>0.0</td>\n",
       "      <td>0.0</td>\n",
       "      <td>0.0</td>\n",
       "      <td>0.0</td>\n",
       "      <td>0.0</td>\n",
       "      <td>0.0</td>\n",
       "    </tr>\n",
       "    <tr>\n",
       "      <th>561462</th>\n",
       "      <td>300.00</td>\n",
       "      <td>0</td>\n",
       "      <td>1</td>\n",
       "      <td>0</td>\n",
       "      <td>14182</td>\n",
       "      <td>562.0</td>\n",
       "      <td>150.0</td>\n",
       "      <td>0</td>\n",
       "      <td>1</td>\n",
       "      <td>0</td>\n",
       "      <td>...</td>\n",
       "      <td>0.0</td>\n",
       "      <td>0.0</td>\n",
       "      <td>0.0</td>\n",
       "      <td>0.0</td>\n",
       "      <td>0.0</td>\n",
       "      <td>0.0</td>\n",
       "      <td>0.0</td>\n",
       "      <td>0.0</td>\n",
       "      <td>0.0</td>\n",
       "      <td>0.0</td>\n",
       "    </tr>\n",
       "    <tr>\n",
       "      <th>66966</th>\n",
       "      <td>226.00</td>\n",
       "      <td>0</td>\n",
       "      <td>0</td>\n",
       "      <td>1</td>\n",
       "      <td>10023</td>\n",
       "      <td>111.0</td>\n",
       "      <td>150.0</td>\n",
       "      <td>0</td>\n",
       "      <td>0</td>\n",
       "      <td>1</td>\n",
       "      <td>...</td>\n",
       "      <td>0.0</td>\n",
       "      <td>0.0</td>\n",
       "      <td>0.0</td>\n",
       "      <td>0.0</td>\n",
       "      <td>0.0</td>\n",
       "      <td>0.0</td>\n",
       "      <td>0.0</td>\n",
       "      <td>0.0</td>\n",
       "      <td>0.0</td>\n",
       "      <td>0.0</td>\n",
       "    </tr>\n",
       "    <tr>\n",
       "      <th>359681</th>\n",
       "      <td>146.00</td>\n",
       "      <td>0</td>\n",
       "      <td>0</td>\n",
       "      <td>1</td>\n",
       "      <td>10989</td>\n",
       "      <td>360.0</td>\n",
       "      <td>150.0</td>\n",
       "      <td>0</td>\n",
       "      <td>0</td>\n",
       "      <td>1</td>\n",
       "      <td>...</td>\n",
       "      <td>0.0</td>\n",
       "      <td>160.5</td>\n",
       "      <td>160.5</td>\n",
       "      <td>160.5</td>\n",
       "      <td>0.0</td>\n",
       "      <td>0.0</td>\n",
       "      <td>0.0</td>\n",
       "      <td>0.0</td>\n",
       "      <td>0.0</td>\n",
       "      <td>0.0</td>\n",
       "    </tr>\n",
       "  </tbody>\n",
       "</table>\n",
       "<p>5 rows × 234 columns</p>\n",
       "</div>"
      ],
      "text/plain": [
       "        TransactionAmt  ProductCD_0  ProductCD_1  ProductCD_2  card1  card2  \\\n",
       "234486          261.95            0            0            1   7585  553.0   \n",
       "510134          141.00            0            0            1  16132  111.0   \n",
       "561462          300.00            0            1            0  14182  562.0   \n",
       "66966           226.00            0            0            1  10023  111.0   \n",
       "359681          146.00            0            0            1  10989  360.0   \n",
       "\n",
       "        card3  card4_0  card4_1  card4_2  ...  V312   V313   V314   V315  \\\n",
       "234486  150.0        0        0        1  ...   0.0    0.0    0.0    0.0   \n",
       "510134  150.0        0        0        1  ...   0.0    0.0  206.0    0.0   \n",
       "561462  150.0        0        1        0  ...   0.0    0.0    0.0    0.0   \n",
       "66966   150.0        0        0        1  ...   0.0    0.0    0.0    0.0   \n",
       "359681  150.0        0        0        1  ...   0.0  160.5  160.5  160.5   \n",
       "\n",
       "        V316  V317  V318  V319  V320  V321  \n",
       "234486   0.0   0.0   0.0   0.0   0.0   0.0  \n",
       "510134   0.0   0.0   0.0   0.0   0.0   0.0  \n",
       "561462   0.0   0.0   0.0   0.0   0.0   0.0  \n",
       "66966    0.0   0.0   0.0   0.0   0.0   0.0  \n",
       "359681   0.0   0.0   0.0   0.0   0.0   0.0  \n",
       "\n",
       "[5 rows x 234 columns]"
      ]
     },
     "execution_count": 40,
     "metadata": {},
     "output_type": "execute_result"
    }
   ],
   "source": [
    "Xtr_be.head()"
   ]
  },
  {
   "cell_type": "code",
   "execution_count": 18,
   "metadata": {},
   "outputs": [],
   "source": [
    "# Xtr_le.to_csv(f\"{path}X_train_labelencoding.csv\", index=False)\n",
    "# Xte_le.to_csv(f\"{path}X_test_labelencoding.csv\", index=False)\n",
    "# Xtr_be.to_csv(f\"{path}X_train_binaryencoding.csv\", index=False)\n",
    "# Xte_be.to_csv(f\"{path}X_test_binaryencoding.csv\", index=False)\n",
    "# Xtr_le_pca.to_csv(f\"{path}X_train_labelencoding_pca.csv\", index=False)\n",
    "# Xte_le_pca.to_csv(f\"{path}X_test_labelencoding_pca.csv\", index=False)\n",
    "# Ytr.to_csv(f\"{path}Y_train.csv\", header=\"isFraud\", index=False)"
   ]
  },
  {
   "cell_type": "markdown",
   "metadata": {},
   "source": [
    "## 2. Modeling"
   ]
  },
  {
   "cell_type": "code",
   "execution_count": 19,
   "metadata": {},
   "outputs": [],
   "source": [
    "import numpy as np\n",
    "import pandas as pd\n",
    "from sklearn.ensemble import RandomForestClassifier, GradientBoostingClassifier\n",
    "from sklearn.model_selection import GridSearchCV\n",
    "import random\n",
    "import matplotlib.pyplot as plt\n",
    "from sklearn.linear_model import LogisticRegression\n",
    "import xgboost as xgb"
   ]
  },
  {
   "cell_type": "code",
   "execution_count": 20,
   "metadata": {},
   "outputs": [],
   "source": [
    "# path = '/home/wkm/Documents/Data set/ieee-fraud-detection/'\n",
    "# Xtr = pd.read_csv(f\"{path}X_train_binaryencoding.csv\")\n",
    "# Xte = pd.read_csv(f\"{path}X_test_binaryencoding.csv\")\n",
    "# Ytr = pd.read_csv(f\"{path}Y_train.csv\")"
   ]
  },
  {
   "cell_type": "code",
   "execution_count": 21,
   "metadata": {},
   "outputs": [],
   "source": [
    "Xtr = Xtr_be\n",
    "Xte = Xte_be"
   ]
  },
  {
   "cell_type": "code",
   "execution_count": 22,
   "metadata": {},
   "outputs": [],
   "source": [
    "test_transaction = pd.read_csv('test_transaction.csv')\n",
    "submission = pd.DataFrame(test_transaction[\"TransactionID\"])\n",
    "del test_transaction"
   ]
  },
  {
   "cell_type": "markdown",
   "metadata": {},
   "source": [
    "### 2.1 Logistic regression"
   ]
  },
  {
   "cell_type": "markdown",
   "metadata": {},
   "source": [
    "The prediction score is 0.713617."
   ]
  },
  {
   "cell_type": "code",
   "execution_count": 23,
   "metadata": {},
   "outputs": [
    {
     "name": "stderr",
     "output_type": "stream",
     "text": [
      "E:\\Anaconda3\\lib\\site-packages\\sklearn\\linear_model\\_sag.py:328: ConvergenceWarning: The max_iter was reached which means the coef_ did not converge\n",
      "  warnings.warn(\"The max_iter was reached which means \"\n"
     ]
    }
   ],
   "source": [
    "lr = LogisticRegression(penalty='l2', max_iter=500, n_jobs=6, tol=1e-6, solver=\"sag\")\n",
    "lr.fit(Xtr, np.ravel(Ytr))\n",
    "Yhat_lr = lr.predict_proba(Xte)\n",
    "submission[\"isFraud\"] = Yhat_lr[:, 1]\n",
    "# submission.to_csv(f\"{path}Y_hat_logistic.csv\", index=False)"
   ]
  },
  {
   "cell_type": "markdown",
   "metadata": {},
   "source": [
    "### 2.2 Bagging trees"
   ]
  },
  {
   "cell_type": "markdown",
   "metadata": {},
   "source": [
    "I use RandomForestClassifier and set max_features=\"auto\", which means max_features=n_features, so it is bagging."
   ]
  },
  {
   "cell_type": "code",
   "execution_count": 24,
   "metadata": {},
   "outputs": [],
   "source": [
    "treeCount = 100\n",
    "\n",
    "bagging = RandomForestClassifier(max_features=\"auto\", min_samples_leaf=1, n_estimators=treeCount)\n",
    "bagging.fit(Xtr, np.ravel(Ytr))\n",
    "Yhat_bagging = bagging.predict_proba(Xte)\n",
    "submission[\"isFraud\"] = Yhat_bagging[:, 1]\n",
    "# submission.to_csv(f\"{path}Y_hat_bagging.csv\", index=False)"
   ]
  },
  {
   "cell_type": "markdown",
   "metadata": {},
   "source": [
    "### 2.3 Random forests"
   ]
  },
  {
   "cell_type": "markdown",
   "metadata": {},
   "source": [
    "Let's first do parameter tunning."
   ]
  },
  {
   "cell_type": "code",
   "execution_count": 25,
   "metadata": {},
   "outputs": [
    {
     "name": "stdout",
     "output_type": "stream",
     "text": [
      "10 0.03280000000000005\n",
      "40 0.03259999999999996\n",
      "70 0.03380000000000005\n",
      "100 0.031200000000000006\n",
      "130 0.033399999999999985\n",
      "160 0.03380000000000005\n",
      "190 0.03400000000000003\n",
      "220 0.03320000000000001\n"
     ]
    }
   ],
   "source": [
    "# use oob error to find the best max_features\n",
    "nFeatures = Xtr.shape[1]\n",
    "oobErrList = list()\n",
    "mList = [m for m in range(10, nFeatures+1, 30)]\n",
    "\n",
    "for m in mList:\n",
    "    rf = RandomForestClassifier(max_features=m, min_samples_leaf=1,\\\n",
    "                                oob_score=True, n_estimators=50)\n",
    "    rf.fit(Xtr, np.ravel(Ytr))\n",
    "    oobErrList.append(1-rf.oob_score_)\n",
    "    print(m, 1-rf.oob_score_)"
   ]
  },
  {
   "cell_type": "code",
   "execution_count": 26,
   "metadata": {},
   "outputs": [
    {
     "name": "stdout",
     "output_type": "stream",
     "text": [
      "[0.03280000000000005, 0.03259999999999996, 0.03380000000000005, 0.031200000000000006, 0.033399999999999985, 0.03380000000000005, 0.03400000000000003, 0.03320000000000001]\n"
     ]
    },
    {
     "data": {
      "image/png": "[encoded data removed]",
      "text/plain": [
       "<Figure size 432x288 with 1 Axes>"
      ]
     },
     "metadata": {
      "needs_background": "light"
     },
     "output_type": "display_data"
    }
   ],
   "source": [
    "print(oobErrList)\n",
    "plt.plot([m for m in range(10, nFeatures+1, 30)], oobErrList)\n",
    "plt.ylabel('OOB error with (n_estimators=50)')\n",
    "plt.xlabel('m, the number of variables considered at each split')\n",
    "plt.show()"
   ]
  },
  {
   "cell_type": "markdown",
   "metadata": {},
   "source": [
    "Other than max_features (the number of variables considered at each split), the parameter n_estimators (the number of trees) is also important. However, the prediction performance will increase with the increase of n_estimators, so we should select the highest n_estimators as long as our machine can compute it. \n",
    "\n",
    "I tried different parameters (max_features and n_estimators) and get the prediction scores (evaluted by AUC) as following.\n",
    "\n",
    "|max_features | n_estimators | PCA | prediction score |\n",
    "|---|---|---|---|\n",
    "| 223 | 100 | 99%  | 0.871838 |\n",
    "| 190 | 100 | 100% | 0.892415 |\n",
    "| 100 | 100 | 100% | 0.894553 |\n",
    "| 50  | 100 | 100% | 0.895868 |\n",
    "| 223 | 100 | 100% | 0.896448 |\n",
    "| 90  | 200 | 100% | 0.898140 |\n",
    "| 100 | 200 | 100% | 0.899070 |\n",
    "| 50  | 200 | 100% | 0.900798 |\n",
    "| 15  | 1000| 100% | 0.904874 |\n",
    "\n",
    "From the table above, we can see that max_features does not infulence the prediction performance significantly, but n_estimators does."
   ]
  },
  {
   "cell_type": "code",
   "execution_count": 27,
   "metadata": {},
   "outputs": [],
   "source": [
    "treeCount = 1000\n",
    "m = 15\n",
    "\n",
    "rf = RandomForestClassifier(max_features=m, min_samples_leaf=1, n_estimators=treeCount)\n",
    "rf.fit(Xtr, np.ravel(Ytr))\n",
    "Yhat_rf = rf.predict_proba(Xte)"
   ]
  },
  {
   "cell_type": "code",
   "execution_count": 28,
   "metadata": {},
   "outputs": [],
   "source": [
    "submission[\"isFraud\"] = Yhat_rf[:, 1]\n",
    "# submission.to_csv(f\"{path}Y_hat_rf_m{m}_t{treeCount}.csv\", index=False)"
   ]
  },
  {
   "cell_type": "markdown",
   "metadata": {},
   "source": [
    "### 2.4 Gradient boosting"
   ]
  },
  {
   "cell_type": "markdown",
   "metadata": {},
   "source": [
    "At first, let's try gradient boosting with default parameters. The prediction scroe on test data set is 0.891210."
   ]
  },
  {
   "cell_type": "code",
   "execution_count": 30,
   "metadata": {},
   "outputs": [],
   "source": [
    "# use default parameters\n",
    "gbm0 = GradientBoostingClassifier()\n",
    "gbm0.fit(Xtr, np.ravel(Ytr))\n",
    "submission[\"isFraud\"] = gbm0.predict_proba(Xte)[:, 1]\n",
    "#submission.to_csv(f\"Y_hat_gbm_default.csv\", index=False)"
   ]
  },
  {
   "cell_type": "markdown",
   "metadata": {},
   "source": [
    "Now let's do parameter tunning. The parameters n_estimators and learning_rate are corrlated, so we need to tune them together. Let's use grid search to find the best number of weak learners (n_estima****tors) and the best step size (learning_rate). "
   ]
  },
  {
   "cell_type": "code",
   "execution_count": 31,
   "metadata": {},
   "outputs": [
    {
     "data": {
      "text/plain": [
       "GridSearchCV(cv=5,\n",
       "             estimator=GradientBoostingClassifier(max_depth=4,\n",
       "                                                  max_features='sqrt',\n",
       "                                                  min_samples_leaf=0.001),\n",
       "             n_jobs=6,\n",
       "             param_grid={'learning_rate': [0.01, 0.1, 1],\n",
       "                         'n_estimators': range(100, 1200, 100)},\n",
       "             scoring='roc_auc')"
      ]
     },
     "execution_count": 31,
     "metadata": {},
     "output_type": "execute_result"
    }
   ],
   "source": [
    "param_test1 = {'n_estimators':range(100, 1200, 100), 'learning_rate':[0.01, 0.1, 1]}\n",
    "gbm_tune1 = GradientBoostingClassifier(max_features='sqrt', min_samples_leaf=0.001, max_depth=4)\n",
    "\n",
    "gs1 = GridSearchCV(estimator=gbm_tune1, param_grid=param_test1, scoring='roc_auc', n_jobs=6, cv=5)\n",
    "gs1.fit(Xtr, np.ravel(Ytr))"
   ]
  },
  {
   "cell_type": "code",
   "execution_count": 32,
   "metadata": {},
   "outputs": [
    {
     "name": "stdout",
     "output_type": "stream",
     "text": [
      "The best parameters: {'learning_rate': 0.01, 'n_estimators': 600}, and the highest mean_test_score is 0.8217114310572254\n"
     ]
    }
   ],
   "source": [
    "print(f\"The best parameters: {gs1.best_params_}, and the highest mean_test_score is {gs1.best_score_}\")"
   ]
  },
  {
   "cell_type": "markdown",
   "metadata": {},
   "source": [
    "However, I found that n_estimators=600 is unaffordable for computation, so I still set it to 100. Now let's tune the tree parameters max_depth and min_samples_leaf."
   ]
  },
  {
   "cell_type": "code",
   "execution_count": 33,
   "metadata": {},
   "outputs": [
    {
     "data": {
      "text/plain": [
       "GridSearchCV(cv=5, estimator=GradientBoostingClassifier(max_features='sqrt'),\n",
       "             n_jobs=6,\n",
       "             param_grid={'max_depth': range(2, 16, 2),\n",
       "                         'min_samples_leaf': [1e-05, 0.0001, 0.001, 0.01, 0.1]},\n",
       "             scoring='roc_auc')"
      ]
     },
     "execution_count": 33,
     "metadata": {},
     "output_type": "execute_result"
    }
   ],
   "source": [
    "param_test2 = {'max_depth':range(2, 16, 2), 'min_samples_leaf':[10**i for i in range(-5,0)]}\n",
    "gbm_tune2 = GradientBoostingClassifier(max_features='sqrt', n_estimators=100, learning_rate=0.1)\n",
    "\n",
    "gs2 = GridSearchCV(estimator=gbm_tune2, param_grid=param_test2, scoring='roc_auc', n_jobs=6, cv=5)\n",
    "gs2.fit(Xtr, np.ravel(Ytr))"
   ]
  },
  {
   "cell_type": "code",
   "execution_count": 34,
   "metadata": {},
   "outputs": [
    {
     "name": "stdout",
     "output_type": "stream",
     "text": [
      "The best parameters: {'max_depth': 8, 'min_samples_leaf': 0.001}, and the highest mean_test_score is 0.8181078274536219\n"
     ]
    }
   ],
   "source": [
    "print(f\"The best parameters: {gs2.best_params_}, and the highest mean_test_score is {gs2.best_score_}\")"
   ]
  },
  {
   "cell_type": "code",
   "execution_count": 36,
   "metadata": {},
   "outputs": [],
   "source": [
    "# use tuned parameters\n",
    "gbm1 = GradientBoostingClassifier(max_depth=10, min_samples_leaf=0.001, \n",
    "                                  learning_rate=0.1, n_estimators=100)\n",
    "gbm1.fit(Xtr, np.ravel(Ytr))\n",
    "submission[\"isFraud\"] = gbm1.predict_proba(Xte)[:, 1]\n",
    "#submission.to_csv(f\"Y_hat_gbm_tuned1.csv\", index=False)"
   ]
  },
  {
   "cell_type": "markdown",
   "metadata": {},
   "source": [
    "After parameters tuning, the prediction score (by AUC) on test data set is 0.919523. It is beeter than that without parameters tuning."
   ]
  },
  {
   "cell_type": "markdown",
   "metadata": {},
   "source": [
    "### 2.5 XGBoost"
   ]
  },
  {
   "cell_type": "markdown",
   "metadata": {},
   "source": [
    "The prediction scroe on test data set by XGBoost with default parameters is 0.900976, and 0.931355 with the parameters tuned by GBT (see section 2.4 Gradient boosting)."
   ]
  },
  {
   "cell_type": "code",
   "execution_count": 37,
   "metadata": {},
   "outputs": [
    {
     "name": "stderr",
     "output_type": "stream",
     "text": [
      "E:\\Anaconda3\\lib\\site-packages\\xgboost\\sklearn.py:1224: UserWarning: The use of label encoder in XGBClassifier is deprecated and will be removed in a future release. To remove this warning, do the following: 1) Pass option use_label_encoder=False when constructing XGBClassifier object; and 2) Encode your labels (y) as integers starting with 0, i.e. 0, 1, 2, ..., [num_class - 1].\n",
      "  warnings.warn(label_encoder_deprecation_msg, UserWarning)\n"
     ]
    },
    {
     "name": "stdout",
     "output_type": "stream",
     "text": [
      "[23:33:42] WARNING: C:/Users/Administrator/workspace/xgboost-win64_release_1.5.1/src/learner.cc:576: \n",
      "Parameters: { \"min_samples_leaf\" } might not be used.\n",
      "\n",
      "  This could be a false alarm, with some parameters getting used by language bindings but\n",
      "  then being mistakenly passed down to XGBoost core, or some parameter actually being used\n",
      "  but getting flagged wrongly here. Please open an issue if you find any such cases.\n",
      "\n",
      "\n"
     ]
    }
   ],
   "source": [
    "xgbc = xgb.XGBClassifier(n_jobs=4, max_depth=10, min_samples_leaf=0.001, \n",
    "                         learning_rate=0.1, n_estimators=100, eval_metric=\"auc\")\n",
    "xgbc.fit(Xtr, np.ravel(Ytr))\n",
    "submission[\"isFraud\"] = xgbc.predict_proba(Xte)[:, 1]"
   ]
  },
  {
   "cell_type": "code",
   "execution_count": 38,
   "metadata": {},
   "outputs": [],
   "source": [
    "#submission.to_csv(f\"Y_hat_xgb_tuned5.csv\", index=False)"
   ]
  }
 ],
 "metadata": {
  "kernelspec": {
   "display_name": "Python 3",
   "language": "python",
   "name": "python3"
  },
  "language_info": {
   "codemirror_mode": {
    "name": "ipython",
    "version": 3
   },
   "file_extension": ".py",
   "mimetype": "text/x-python",
   "name": "python",
   "nbconvert_exporter": "python",
   "pygments_lexer": "ipython3",
   "version": "3.7.4"
  }
 },
 "nbformat": 4,
 "nbformat_minor": 1
}
